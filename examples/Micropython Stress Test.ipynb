{
  "cells": [
    {
      "cell_type": "markdown",
      "id": "9ljz8cmv2g7",
      "metadata": {},
      "source": [
        "# µNotebook Stress Test\n",
        "\n",
        "This notebook contains **MicroPython-style** code snippets designed to stress-test a notebook frontend: large outputs, unicode, ANSI color, errors, long lines, binary-ish data, and incremental logging.\n",
        "\n",
        "- You can run cells individually to verify streaming, truncation, and rendering.\n",
        "- The code is written to be compatible with standard Python syntax that MicroPython also supports (adjust imports like `utime` vs `time` as needed by your runtime).\n"
      ]
    },
    {
      "cell_type": "code",
      "id": "5d5ba1e5-149a-4b48-8daa-87806e6700a6",
      "metadata": {},
      "source": [
        "print('Hello World!')\n"
      ]
    },
    {
      "cell_type": "code",
      "execution_count": null,
      "id": "pas7axawdn",
      "metadata": {
        "name": "hello"
      },
      "outputs": [],
      "source": [
        "# 1) Hello + quick sanity check (UTF-8, symbols)\n",
        "print('Hello from MicroPython stress test!')\n",
        "print('Greek mu: µ  |  Emoji: 🚀  |  Accents: café  |  RTL: مرحبا')\n"
      ]
    },
    {
      "cell_type": "code",
      "execution_count": null,
      "id": "xqlofqy5hn",
      "metadata": {
        "name": "rapid_lines"
      },
      "outputs": [],
      "source": [
        "# 2) Rapid 1000-line output (checks line buffering & scroll performance)\n",
        "for i in range(1000):\n",
        "    print('line', i)\n"
      ]
    },
    {
      "cell_type": "code",
      "execution_count": null,
      "id": "snlbtr87dg9",
      "metadata": {
        "name": "progress_stream"
      },
      "outputs": [],
      "source": [
        "# 3) Progress stream with carriage returns (\\r) to test in-place updates\n",
        "try:\n",
        "    import utime as time\n",
        "    sleep = time.sleep\n",
        "except ImportError:\n",
        "    try:\n",
        "      import time\n",
        "      sleep = time.sleep\n",
        "    except ImportError:\n",
        "      from pybricks.tools import wait\n",
        "      sleep = wait\n",
        "\n",
        "for i in range(0, 101):\n",
        "    bar = '#' * (i // 2)\n",
        "    s = '\\rProgress: {0:3d}% |{1:<50}|'.format(i, bar)\n",
        "    print(s, end='')\n",
        "    sleep(0.01)\n",
        "print('\\nDone.')\n"
      ]
    },
    {
      "cell_type": "code",
      "execution_count": null,
      "id": "gi9cpk3ft1p",
      "metadata": {
        "name": "long_line"
      },
      "outputs": [],
      "source": [
        "# 4) Very long line (10k+ characters) to test wrapping/truncation\n",
        "long_line = 'A' * 10_000\n",
        "print(long_line)\n",
        "print('Length:', len(long_line))\n"
      ]
    },
    {
      "cell_type": "code",
      "execution_count": null,
      "id": "lnqzes84lal",
      "metadata": {
        "name": "ansi_colors"
      },
      "outputs": [],
      "source": [
        "# 5) ANSI color / style sequences (if your UI supports them)\n",
        "RESET='\\x1b[0m'\n",
        "BOLD='\\x1b[1m'\n",
        "RED='\\x1b[31m'\n",
        "GREEN='\\x1b[32m'\n",
        "YELLOW='\\x1b[33m'\n",
        "BLUE='\\x1b[34m'\n",
        "print(BOLD + 'Bold line' + RESET)\n",
        "print(RED + 'Red' + RESET, GREEN + 'Green' + RESET, YELLOW + 'Yellow' + RESET, BLUE + 'Blue' + RESET)\n",
        "for i in range(6):\n",
        "    print('\\x1b[3%dmColor %d%s' % (i, i, RESET))\n"
      ]
    },
    {
      "cell_type": "code",
      "execution_count": null,
      "id": "y3eccg7jra",
      "metadata": {
        "name": "unicode_torture"
      },
      "outputs": [],
      "source": [
        "# 6) Unicode torture: combining marks, wide glyphs, RTL, emoji sequences\n",
        "samples = [\n",
        "    'Combining: A\\u0301 A\\u0323 A\\u0301\\u0323',\n",
        "    'CJK: 你好，世界',\n",
        "    'RTL (Arabic): العربية مرحبا',\n",
        "    'Emoji ZWJ: 👩\\u200d💻 👨\\u200d🚀',\n",
        "    'Skin tones: 👍👍🏻👍🏼👍🏽👍🏾👍🏿',\n",
        "    'Mu: µ — microfarad µF'\n",
        "]\n",
        "for s in samples:\n",
        "    print(s)\n"
      ]
    },
    {
      "cell_type": "code",
      "execution_count": null,
      "id": "dk6rlrhjd4d",
      "metadata": {
        "name": "binary_like"
      },
      "outputs": [],
      "source": [
        "# 7) Binary-like output (NULs and non-printables) using repr to stay text-safe\n",
        "buf = bytes([i % 256 for i in range(1024)])\n",
        "print('bytes len:', len(buf))\n",
        "print(repr(buf))\n",
        "\n",
        "# Also write some control codes directly to test your renderer\n",
        "ctrls = b'CTRL-B:\\x02 CTRL-C:\\x03 NUL:\\x00 END' \n",
        "print(ctrls)\n"
      ]
    },
    {
      "cell_type": "code",
      "execution_count": null,
      "id": "d0nk7g6reyo",
      "metadata": {
        "name": "exceptions"
      },
      "outputs": [],
      "source": [
        "# 8) Intentional exceptions to test traceback rendering and stderr capture\n",
        "def boom():\n",
        "    raise ValueError('Intentional error for traceback test')\n",
        "\n",
        "try:\n",
        "    boom()\n",
        "except Exception as exc:\n",
        "    print('Caught:', exc)\n",
        "    # Now raise unhandled to see a raw traceback\n",
        "    raise exc\n"
      ]
    },
    {
      "cell_type": "code",
      "execution_count": null,
      "id": "tltm4ntq5fo",
      "metadata": {
        "name": "json_dump"
      },
      "outputs": [],
      "source": [
        "# 9) Large JSON-ish output to test pretty-print and folding\n",
        "try:\n",
        "    import ujson as json\n",
        "except ImportError:\n",
        "    import json\n",
        "\n",
        "data = {\n",
        "    'items': [ {'i': i, 'txt': 'x'*200 } for i in range(50) ],\n",
        "    'meta': {'created': 'now', 'u': 'mu', 'note': 'stress-test'}\n",
        "}\n",
        "print(json.dumps(data)[:5000])  # print only first 5k chars\n"
      ]
    },
    {
      "cell_type": "code",
      "execution_count": null,
      "id": "wgbn94lyz",
      "metadata": {
        "name": "stream_flush"
      },
      "outputs": [],
      "source": [
        "# 10) Streaming logs with flush to test incremental delivery in your UI\n",
        "try:\n",
        "    import utime as time\n",
        "    sleep = time.sleep\n",
        "except ImportError:\n",
        "    try:\n",
        "      import time\n",
        "      sleep = time.sleep\n",
        "    except ImportError:\n",
        "      from pybricks.tools import wait\n",
        "      sleep = wait\n",
        "\n",
        "for i in range(10):\n",
        "    print('tick', i)\n",
        "    try:\n",
        "        import sys\n",
        "        sys.stdout.flush()\n",
        "    except Exception:\n",
        "        pass\n",
        "    sleep(.5)\n"
      ]
    },
    {
      "cell_type": "code",
      "execution_count": null,
      "id": "q3bdqhnw98",
      "metadata": {
        "name": "stderr_test"
      },
      "outputs": [],
      "source": [
        "# 11) Explicit stderr writes if your kernel/bridge routes them distinctly\n",
        "try:\n",
        "    import sys\n",
        "    sys.stderr.write('This is stderr line 1\\n')\n",
        "    sys.stderr.write('This is stderr line 2\\n')\n",
        "except Exception as e:\n",
        "    print('stderr not available:', e)\n"
      ]
    },
    {
      "cell_type": "code",
      "execution_count": null,
      "id": "4chie3xfzi8",
      "metadata": {
        "name": "long_runtime"
      },
      "outputs": [],
      "source": [
        "# 12) Longer runtime with intermittent output (cancel-friendly)\n",
        "try:\n",
        "    import utime as time\n",
        "except ImportError:\n",
        "    import time\n",
        "for i in range(10):\n",
        "    print('chunk', i, '...' )\n",
        "    for j in range(1000):\n",
        "        pass  # burn CPU briefly\n",
        "    time.sleep(0.1)\n",
        "print('long runtime section finished')\n"
      ]
    },
    {
      "cell_type": "code",
      "id": "y0l17yuh5mc",
      "metadata": {},
      "source": [
        "# 13) A long program\n",
        "print('hello world!!!!!!!!!!')\n",
        "print('hello world!!!!!!!!!!')\n",
        "print('hello world!!!!!!!!!!')\n",
        "print('hello world!!!!!!!!!!')\n",
        "print('hello world!!!!!!!!!!')\n",
        "print('hello world!!!!!!!!!!')\n",
        "print('hello world!!!!!!!!!!')\n",
        "print('hello world!!!!!!!!!!')\n",
        "print('hello world!!!!!!!!!!')\n",
        "print('hello world!!!!!!!!!!')\n",
        "print('hello world!!!!!!!!!!')\n",
        "print('hello world!!!!!!!!!!')\n",
        "print('hello world!!!!!!!!!!')\n",
        "print('hello world!!!!!!!!!!')\n",
        "print('hello world!!!!!!!!!!')\n",
        "print('hello world!!!!!!!!!!')\n",
        "print('hello world!!!!!!!!!!')\n",
        "print('hello world!!!!!!!!!!')\n",
        "print('hello world!!!!!!!!!!')\n",
        "print('hello world!!!!!!!!!!')\n",
        "print('hello world!!!!!!!!!!')\n",
        "print('hello world!!!!!!!!!!')\n",
        "print('hello world!!!!!!!!!!')\n",
        "print('hello world!!!!!!!!!!')\n",
        "print('hello world!!!!!!!!!!')\n",
        "print('hello world!!!!!!!!!!')\n",
        "print('hello world!!!!!!!!!!')\n",
        "print('hello world!!!!!!!!!!')\n",
        "print('hello world!!!!!!!!!!')\n",
        "print('hello world!!!!!!!!!!')\n",
        "print('hello world!!!!!!!!!!')\n",
        "print('hello world!!!!!!!!!!')\n"
      ]
    },
    {
      "cell_type": "code",
      "id": "cbt1yf216sn",
      "metadata": {},
      "source": [
        "# very wide code in editor\n",
        "\n",
        "try: import json\n",
        "except: import ujson as json\n",
        "def unotebook_repr(o):\n",
        "  if hasattr(o, '_repr_mimebundle_'): print(json.dumps(o._repr_mimebundle_()), end='')\n",
        "  else:\n",
        "    print('{', end='')\n",
        "    if hasattr(o, '_repr_html_'):       print('\"text/html\":', json.dumps(o._repr_html_()), end=',')\n",
        "    if hasattr(o, '_repr_markdown_'):   print('\"text/markdown\":', json.dumps(o._repr_html_()), end=',')\n",
        "    if hasattr(o, '_repr_svg_'):        print('\"image/svg+xml\":', json.dumps(o._repr_svg_()), end=',')\n",
        "    if hasattr(o, '_repr_png_'):        print('\"image/png\":', json.dumps(o._repr_png_()), end=',')\n",
        "    if hasattr(o, '_repr_jpeg_'):       print('\"image/jpeg\":', json.dumps(o._repr_jpeg_()), end=',')\n",
        "    if hasattr(o, '_repr_latex_'):      print('\"text/latex\":', json.dumps(o._repr_latex_()), end=',')\n",
        "    if hasattr(o, '_repr_javascript_'): print('\"application/javascript\":', json.dumps(o._repr_javascript_()), end=',')\n",
        "    print(json.dumps({'text/plain':repr(o)}), end='}\\n')\n",
        "    "
      ]
    },
    {
      "cell_type": "code",
      "id": "pki4jex66dh",
      "metadata": {},
      "source": [
        "class Bold:\n",
        "  def _repr_html_(self):\n",
        "    return '<b>Bold</b>'\n",
        "\n",
        "Bold()"
      ]
    }
  ],
  "metadata": {
    "kernelspec": {
      "display_name": "MicroPython (tests)",
      "language": "python",
      "name": "micropython"
    },
    "language_info": {
      "file_extension": ".py",
      "mimetype": "text/x-python",
      "name": "python",
      "version": "3.x"
    }
  }
}