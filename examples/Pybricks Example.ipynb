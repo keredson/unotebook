{
  "cells": [
    {
      "cell_type": "code",
      "source": [
        "from pybricks.hubs import PrimeHub\n",
        "from pybricks.pupdevices import Motor\n",
        "from pybricks.robotics import DriveBase\n",
        "from pybricks.parameters import Port\n",
        "\n",
        "# Initialize the hub and motor\n",
        "hub = PrimeHub()\n",
        "left  = Motor(Port.A, positive_direction=Direction.COUNTERCLOCKWISE)\n",
        "right = Motor(Port.B, positive_direction=Direction.CLOCKWISE)\n",
        "robot = DriveBase(left, right, wheel_diameter=56, axle_track=120)\n"
      ]
    },
    {
      "cell_type": "code",
      "source": [
        "robot.straight(200)\n"
      ]
    }
  ]
}
