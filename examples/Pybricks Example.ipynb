{
  "cells": [
    {
      "id": "dlt3e3bjs79",
      "cell_type": "code",
      "source": [
        "from pybricks.hubs import PrimeHub",
        "from pybricks.pupdevices import Motor",
        "from pybricks.robotics import DriveBase",
        "from pybricks.parameters import Port",
        "",
        "# Initialize the hub and motor",
        "hub = PrimeHub()",
        "left  = Motor(Port.A, positive_direction=Direction.COUNTERCLOCKWISE)",
        "right = Motor(Port.B, positive_direction=Direction.CLOCKWISE)",
        "robot = DriveBase(left, right, wheel_diameter=56, axle_track=120)",
        ""
      ]
    },
    {
      "id": "2n4ei51wp1l",
      "cell_type": "code",
      "source": [
        "robot.straight(200)"
      ]
    }
  ]
}